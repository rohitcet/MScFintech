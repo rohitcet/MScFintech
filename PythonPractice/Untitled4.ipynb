{
 "cells": [
  {
   "cell_type": "code",
   "execution_count": null,
   "id": "1bcebd26-bc34-40ff-86a5-0af5b9f16f1f",
   "metadata": {},
   "outputs": [
    {
     "name": "stdin",
     "output_type": "stream",
     "text": [
      "\n",
      "Welcome to Stock Master!\n",
      "\n",
      "Please select a function to continue:\n",
      "\n",
      "(1) Search for a stock code by keyword\n",
      "(2) View stock trend by code\n",
      "\n",
      "(sample input 1 or 2)\n",
      " 1\n"
     ]
    },
    {
     "name": "stdout",
     "output_type": "stream",
     "text": [
      "You selected to search for a stock code by keyword.\n"
     ]
    },
    {
     "name": "stdin",
     "output_type": "stream",
     "text": [
      "Please input keyword for the stock searching for:  AAPL\n"
     ]
    },
    {
     "name": "stdout",
     "output_type": "stream",
     "text": [
      "No matching stocks found.\n"
     ]
    },
    {
     "name": "stdin",
     "output_type": "stream",
     "text": [
      "\n",
      "Would you like to\n",
      "1. return to menu\n",
      "2. exit program\n",
      "(sample input : 1 or 2)\n",
      " 1\n",
      "\n",
      "Welcome to Stock Master!\n",
      "\n",
      "Please select a function to continue:\n",
      "\n",
      "(1) Search for a stock code by keyword\n",
      "(2) View stock trend by code\n",
      "\n",
      "(sample input 1 or 2)\n",
      " 1\n"
     ]
    },
    {
     "name": "stdout",
     "output_type": "stream",
     "text": [
      "You selected to search for a stock code by keyword.\n"
     ]
    },
    {
     "name": "stdin",
     "output_type": "stream",
     "text": [
      "Please input keyword for the stock searching for:  MSFT\n"
     ]
    },
    {
     "name": "stdout",
     "output_type": "stream",
     "text": [
      "No matching stocks found.\n"
     ]
    },
    {
     "name": "stdin",
     "output_type": "stream",
     "text": [
      "\n",
      "Would you like to\n",
      "1. return to menu\n",
      "2. exit program\n",
      "(sample input : 1 or 2)\n",
      " 1\n",
      "\n",
      "Welcome to Stock Master!\n",
      "\n",
      "Please select a function to continue:\n",
      "\n",
      "(1) Search for a stock code by keyword\n",
      "(2) View stock trend by code\n",
      "\n",
      "(sample input 1 or 2)\n",
      " 2\n"
     ]
    },
    {
     "name": "stdout",
     "output_type": "stream",
     "text": [
      "You selected to view stock trend by code.\n",
      "\n",
      "Entering function view_trend()\n"
     ]
    },
    {
     "name": "stdin",
     "output_type": "stream",
     "text": [
      "Please input the code of the stock requested:\n",
      " AAPL\n",
      "Please enter start date (e.g., 2019-1-1):  2024-10-10\n",
      "Please enter end date (e.g., 2019-1-1):  2024-11-10\n",
      "\n",
      "Please select type of graph.\n",
      "(1) Candle Stick\n",
      "(2) High\n",
      "(3) Low\n",
      "(4) Open\n",
      "(5) Close\n",
      "(6) Adj Close\n",
      "(7) Moving Average\n",
      "(8) Volume\n",
      "\n",
      "You may select multiple choices, separated by commas.\n",
      "\n",
      "Sample input for Candle Stick + High + Volume:\n",
      "1,2,8\n",
      "\n",
      " 8\n"
     ]
    },
    {
     "name": "stdout",
     "output_type": "stream",
     "text": [
      "Removed '8' (Volume) from graph_choice.\n",
      "Traversing graph_choice items:\n",
      "End of view_trend function.\n"
     ]
    },
    {
     "name": "stdin",
     "output_type": "stream",
     "text": [
      "\n",
      "Would you like to\n",
      "1. return to menu\n",
      "2. exit program\n",
      "(sample input : 1 or 2)\n",
      " 1\n",
      "\n",
      "Welcome to Stock Master!\n",
      "\n",
      "Please select a function to continue:\n",
      "\n",
      "(1) Search for a stock code by keyword\n",
      "(2) View stock trend by code\n",
      "\n",
      "(sample input 1 or 2)\n",
      " 2\n"
     ]
    },
    {
     "name": "stdout",
     "output_type": "stream",
     "text": [
      "You selected to view stock trend by code.\n",
      "\n",
      "Entering function view_trend()\n"
     ]
    },
    {
     "name": "stdin",
     "output_type": "stream",
     "text": [
      "Please input the code of the stock requested:\n",
      " MSFT\n",
      "Please enter start date (e.g., 2019-1-1):  2024-10-10\n",
      "Please enter end date (e.g., 2019-1-1):  2024-11-10\n",
      "\n",
      "Please select type of graph.\n",
      "(1) Candle Stick\n",
      "(2) High\n",
      "(3) Low\n",
      "(4) Open\n",
      "(5) Close\n",
      "(6) Adj Close\n",
      "(7) Moving Average\n",
      "(8) Volume\n",
      "\n",
      "You may select multiple choices, separated by commas.\n",
      "\n",
      "Sample input for Candle Stick + High + Volume:\n",
      "1,2,8\n",
      "\n",
      " 1,3,5,7,8\n"
     ]
    },
    {
     "name": "stdout",
     "output_type": "stream",
     "text": [
      "Removed '8' (Volume) from graph_choice.\n",
      "Removed '1' (Candle Stick) from graph_choice.\n",
      "Removed '7' (Moving Average) from graph_choice.\n",
      "Traversing graph_choice items:\n",
      "Graph choice 3: Low\n",
      "Graph choice 5: Close\n",
      "End of view_trend function.\n"
     ]
    },
    {
     "name": "stdin",
     "output_type": "stream",
     "text": [
      "\n",
      "Would you like to\n",
      "1. return to menu\n",
      "2. exit program\n",
      "(sample input : 1 or 2)\n",
      " 1\n",
      "\n",
      "Welcome to Stock Master!\n",
      "\n",
      "Please select a function to continue:\n",
      "\n",
      "(1) Search for a stock code by keyword\n",
      "(2) View stock trend by code\n",
      "\n",
      "(sample input 1 or 2)\n",
      " 1\n"
     ]
    },
    {
     "name": "stdout",
     "output_type": "stream",
     "text": [
      "You selected to search for a stock code by keyword.\n"
     ]
    },
    {
     "name": "stdin",
     "output_type": "stream",
     "text": [
      "Please input keyword for the stock searching for:  2\n"
     ]
    },
    {
     "name": "stdout",
     "output_type": "stream",
     "text": [
      "No matching stocks found.\n"
     ]
    },
    {
     "name": "stdin",
     "output_type": "stream",
     "text": [
      "\n",
      "Would you like to\n",
      "1. return to menu\n",
      "2. exit program\n",
      "(sample input : 1 or 2)\n",
      " 1\n",
      "\n",
      "Welcome to Stock Master!\n",
      "\n",
      "Please select a function to continue:\n",
      "\n",
      "(1) Search for a stock code by keyword\n",
      "(2) View stock trend by code\n",
      "\n",
      "(sample input 1 or 2)\n",
      " 2\n"
     ]
    },
    {
     "name": "stdout",
     "output_type": "stream",
     "text": [
      "You selected to view stock trend by code.\n",
      "\n",
      "Entering function view_trend()\n"
     ]
    },
    {
     "name": "stdin",
     "output_type": "stream",
     "text": [
      "Please input the code of the stock requested:\n",
      " AAPL\n",
      "Please enter start date (e.g., 2019-1-1):  2018-01-02\n",
      "Please enter end date (e.g., 2019-1-1):  2020-03-04\n",
      "\n",
      "Please select type of graph.\n",
      "(1) Candle Stick\n",
      "(2) High\n",
      "(3) Low\n",
      "(4) Open\n",
      "(5) Close\n",
      "(6) Adj Close\n",
      "(7) Moving Average\n",
      "(8) Volume\n",
      "\n",
      "You may select multiple choices, separated by commas.\n",
      "\n",
      "Sample input for Candle Stick + High + Volume:\n",
      "1,2,8\n",
      "\n",
      " 4,5,6\n"
     ]
    },
    {
     "name": "stdout",
     "output_type": "stream",
     "text": [
      "Traversing graph_choice items:\n",
      "Graph choice 4: Open\n",
      "Graph choice 5: Close\n",
      "Graph choice 6: Adj Close\n",
      "End of view_trend function.\n"
     ]
    },
    {
     "name": "stdin",
     "output_type": "stream",
     "text": [
      "\n",
      "Would you like to\n",
      "1. return to menu\n",
      "2. exit program\n",
      "(sample input : 1 or 2)\n",
      " 1\n",
      "\n",
      "Welcome to Stock Master!\n",
      "\n",
      "Please select a function to continue:\n",
      "\n",
      "(1) Search for a stock code by keyword\n",
      "(2) View stock trend by code\n",
      "\n",
      "(sample input 1 or 2)\n",
      " 1\n"
     ]
    },
    {
     "name": "stdout",
     "output_type": "stream",
     "text": [
      "You selected to search for a stock code by keyword.\n"
     ]
    },
    {
     "name": "stdin",
     "output_type": "stream",
     "text": [
      "Please input keyword for the stock searching for:  AAAD\n"
     ]
    },
    {
     "name": "stdout",
     "output_type": "stream",
     "text": [
      "No matching stocks found.\n"
     ]
    }
   ],
   "source": [
    "# import modules\n",
    "\n",
    "# Sample data for testing\n",
    "code_dic = {\n",
    "    'AAPL': 'Apple Inc.',\n",
    "    'MSFT': 'Microsoft Corporation',\n",
    "    'GOOGL': 'Alphabet Inc.',\n",
    "    'AMZN': 'Amazon.com, Inc.',\n",
    "    'TSLA': 'Tesla, Inc.'\n",
    "}\n",
    "\n",
    "def user_input():\n",
    "    # Welcome user and select a function\n",
    "    word = '''\n",
    "Welcome to Stock Master!\n",
    "\n",
    "Please select a function to continue:\n",
    "\n",
    "(1) Search for a stock code by keyword\n",
    "(2) View stock trend by code\n",
    "\n",
    "(sample input 1 or 2)\n",
    "'''\n",
    "    next_word = '''\n",
    "Would you like to\n",
    "1. return to menu\n",
    "2. exit program\n",
    "(sample input : 1 or 2)\n",
    "'''\n",
    "\n",
    "    next_step = '1'\n",
    "    while next_step == '1':\n",
    "        function = str(input(word))\n",
    "        \n",
    "        if function == '1':\n",
    "            print(\"You selected to search for a stock code by keyword.\")\n",
    "            check_code()\n",
    "        elif function == '2':\n",
    "            print(\"You selected to view stock trend by code.\")\n",
    "            view_trend()\n",
    "        else:\n",
    "            print(\"Invalid input. Please enter 1 or 2.\")\n",
    "        \n",
    "        next_step = str(input(next_word))\n",
    "    print(\"Exiting the program.\")\n",
    "\n",
    "def check_code():\n",
    "    # Ask user to input keyword\n",
    "    input_keyword = input(\"Please input keyword for the stock searching for: \")\n",
    "    \n",
    "    # TODO 1: Traverse code_dic, pick items with input_keyword in code_dic.keys() and save them in 'selected_dic'\n",
    "    selected_dic = {key: value for key, value in code_dic.items() if input_keyword.lower() in value.lower()}\n",
    "    \n",
    "    # TODO 2: Print out the results in a user-friendly format\n",
    "    if selected_dic:\n",
    "        print(\"Matching stocks found:\")\n",
    "        for key, value in selected_dic.items():\n",
    "            print(f\"Code: {key}, Company: {value}\")\n",
    "    else:\n",
    "        print(\"No matching stocks found.\")\n",
    "\n",
    "    return input_keyword, selected_dic\n",
    "\n",
    "def view_trend():\n",
    "    print(\"\\nEntering function view_trend()\")\n",
    "    \n",
    "    # Ask user to input stock code, start date, and end date\n",
    "    code = str(input(\"Please input the code of the stock requested:\\n\"))\n",
    "    input_start = str(input(\"Please enter start date (e.g., 2019-1-1): \"))\n",
    "    input_end = str(input(\"Please enter end date (e.g., 2019-1-1): \"))\n",
    "\n",
    "    # TODO 3: Split str graph_choice and save individual choices into a list 'graph_choice'\n",
    "    graph_choice = str(input('''\n",
    "Please select type of graph.\n",
    "(1) Candle Stick\n",
    "(2) High\n",
    "(3) Low\n",
    "(4) Open\n",
    "(5) Close\n",
    "(6) Adj Close\n",
    "(7) Moving Average\n",
    "(8) Volume\n",
    "\n",
    "You may select multiple choices, separated by commas.\n",
    "\n",
    "Sample input for Candle Stick + High + Volume:\n",
    "1,2,8\n",
    "\n",
    "''')).split(',')\n",
    "\n",
    "    # TODO 4: Create a dictionary choice_dic with specific key-value pairs\n",
    "    choice_dic = {\n",
    "        '2': 'High',\n",
    "        '3': 'Low',\n",
    "        '4': 'Open',\n",
    "        '5': 'Close',\n",
    "        '6': 'Adj Close',\n",
    "        '7': 'MA'\n",
    "    }\n",
    "\n",
    "    # TODO 5: Remove '8' from graph_choice if it exists\n",
    "    if '8' in graph_choice:\n",
    "        graph_choice.remove('8')\n",
    "        print(\"Removed '8' (Volume) from graph_choice.\")\n",
    "\n",
    "    # TODO 6: Remove '1' from graph_choice if it exists\n",
    "    if '1' in graph_choice:\n",
    "        graph_choice.remove('1')\n",
    "        print(\"Removed '1' (Candle Stick) from graph_choice.\")\n",
    "\n",
    "    # TODO 7: Remove '7' from graph_choice if it exists\n",
    "    if '7' in graph_choice:\n",
    "        graph_choice.remove('7')\n",
    "        print(\"Removed '7' (Moving Average) from graph_choice.\")\n",
    "\n",
    "    # TODO 8: Write a for loop to traverse the items in graph_choice\n",
    "    print(\"Traversing graph_choice items:\")\n",
    "    for choice in graph_choice:\n",
    "        if choice in choice_dic:\n",
    "            print(f\"Graph choice {choice}: {choice_dic[choice]}\")\n",
    "\n",
    "    print(\"End of view_trend function.\")\n",
    "    next_step = 'What is the next step?'\n",
    "\n",
    "    return code, input_start, input_end, graph_choice, next_step\n",
    "\n",
    "def next_request():\n",
    "    # Ask user to select next step to proceed with\n",
    "    next_word = '''\n",
    "Would you like to\n",
    "1. return to menu\n",
    "2. exit program\n",
    "(sample input : 1 or 2)\n",
    "'''\n",
    "    next_step = str(input(next_word))\n",
    "\n",
    "    return next_word, next_step\n",
    "\n",
    "def input_to_date(input_date):\n",
    "    # TODO 12: Split str 'input_date' into list 'temp', assign each list item to 'year', 'month', 'day' as integers\n",
    "    temp = input_date.split('-')\n",
    "    year, month, day = int(temp[0]), int(temp[1]), int(temp[2])\n",
    "    \n",
    "    print(f\"Converted date: Year: {year}, Month: {month}, Day: {day}\")\n",
    "    \n",
    "    return year, month, day\n",
    "\n",
    "def main():\n",
    "    user_input()\n",
    "\n",
    "if __name__ == \"__main__\":\n",
    "    main()\n"
   ]
  },
  {
   "cell_type": "code",
   "execution_count": 1,
   "id": "9c7a48e4-6ff0-476c-9537-ae719bed096c",
   "metadata": {},
   "outputs": [
    {
     "ename": "NameError",
     "evalue": "name 'numpy' is not defined",
     "output_type": "error",
     "traceback": [
      "\u001b[1;31m---------------------------------------------------------------------------\u001b[0m",
      "\u001b[1;31mNameError\u001b[0m                                 Traceback (most recent call last)",
      "Cell \u001b[1;32mIn[1], line 1\u001b[0m\n\u001b[1;32m----> 1\u001b[0m \u001b[43mnumpy\u001b[49m\u001b[38;5;241m.\u001b[39marray([[\u001b[38;5;241m0\u001b[39m,\u001b[38;5;241m1\u001b[39m,\u001b[38;5;241m2\u001b[39m], [\u001b[38;5;241m3\u001b[39m,\u001b[38;5;241m4\u001b[39m,\u001b[38;5;241m5\u001b[39m], [\u001b[38;5;241m4\u001b[39m,\u001b[38;5;241m5\u001b[39m,\u001b[38;5;241m6\u001b[39m], [\u001b[38;5;241m7\u001b[39m,\u001b[38;5;241m8\u001b[39m,\u001b[38;5;241m9\u001b[39m]])\n",
      "\u001b[1;31mNameError\u001b[0m: name 'numpy' is not defined"
     ]
    }
   ],
   "source": [
    "numpy.array([[0,1,2], [3,4,5], [4,5,6], [7,8,9]])"
   ]
  },
  {
   "cell_type": "code",
   "execution_count": null,
   "id": "01025a3b-2169-4581-be6f-c5c46cc9dd74",
   "metadata": {},
   "outputs": [],
   "source": []
  }
 ],
 "metadata": {
  "kernelspec": {
   "display_name": "Python 3 (ipykernel)",
   "language": "python",
   "name": "python3"
  },
  "language_info": {
   "codemirror_mode": {
    "name": "ipython",
    "version": 3
   },
   "file_extension": ".py",
   "mimetype": "text/x-python",
   "name": "python",
   "nbconvert_exporter": "python",
   "pygments_lexer": "ipython3",
   "version": "3.12.4"
  }
 },
 "nbformat": 4,
 "nbformat_minor": 5
}
