{
 "cells": [
  {
   "cell_type": "code",
   "execution_count": null,
   "id": "3c0dcd7a-37ba-424c-bb79-de467b7736ac",
   "metadata": {},
   "outputs": [],
   "source": [
    "def main():\n",
    "    next_step = '1'  # Start with next_step as '1'\n",
    "    \n",
    "    while next_step == '1':\n",
    "        # Ask user input for 'function'\n",
    "        function = input(\"Enter the function (1 or 2): \")\n",
    "\n",
    "        # Check the value of function\n",
    "        if function == '1':\n",
    "            next_step = '2'\n",
    "            print(\"Executing function 1\")\n",
    "        else:\n",
    "            next_step = '1'\n",
    "            print(\"Executing function 2\")\n",
    "\n",
    "    print(\"End of process\")\n",
    "\n",
    "# Run the main function\n",
    "if __name__ == \"__main__\":\n",
    "    main()\n"
   ]
  }
 ],
 "metadata": {
  "kernelspec": {
   "display_name": "Python 3 (ipykernel)",
   "language": "python",
   "name": "python3"
  },
  "language_info": {
   "codemirror_mode": {
    "name": "ipython",
    "version": 3
   },
   "file_extension": ".py",
   "mimetype": "text/x-python",
   "name": "python",
   "nbconvert_exporter": "python",
   "pygments_lexer": "ipython3",
   "version": "3.12.4"
  }
 },
 "nbformat": 4,
 "nbformat_minor": 5
}
