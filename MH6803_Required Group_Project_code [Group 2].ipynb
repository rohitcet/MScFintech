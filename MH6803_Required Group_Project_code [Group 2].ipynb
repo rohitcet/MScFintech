{
 "cells": [
  {
   "cell_type": "code",
   "execution_count": 1,
   "id": "101fc061-a5ad-4f0b-95fb-0363019bed79",
   "metadata": {},
   "outputs": [
    {
     "name": "stdout",
     "output_type": "stream",
     "text": [
      "Supported currencies: USD, EUR, GBP, JPY, INR, AUD\n"
     ]
    },
    {
     "name": "stdin",
     "output_type": "stream",
     "text": [
      "Enter the amount to convert:  2000\n",
      "From currency (e.g., USD):  USD\n",
      "To currency (e.g., EUR):  INR\n",
      "Enter the transaction fee percentage:  .002\n"
     ]
    },
    {
     "name": "stdout",
     "output_type": "stream",
     "text": [
      "\n",
      "Converted Amount: 164000.0 INR\n",
      "Transaction Fee (0.002%): 3.28 INR\n",
      "Total Amount (including fee): 164003.28 INR\n"
     ]
    }
   ],
   "source": [
    "class CurrencyConverterWithFee:\n",
    "    def __init__(self):\n",
    "        # Predefined exchange rates (relative to USD)\n",
    "        self.exchange_rates = {\n",
    "            \"USD\": 1.0,     # Base currency\n",
    "            \"EUR\": 0.85,    # 1 USD = 0.85 EUR\n",
    "            \"GBP\": 0.75,    # 1 USD = 0.75 GBP\n",
    "            \"JPY\": 110.0,   # 1 USD = 110 JPY\n",
    "            \"INR\": 82.0,    # 1 USD = 82 INR\n",
    "            \"AUD\": 1.5      # 1 USD = 1.5 AUD\n",
    "        }\n",
    "\n",
    "    def convert(self, amount, from_currency, to_currency):\n",
    "        \"\"\"Converts an amount from one currency to another.\"\"\"\n",
    "        if from_currency not in self.exchange_rates:\n",
    "            raise ValueError(f\"Unsupported currency: {from_currency}\")\n",
    "        if to_currency not in self.exchange_rates:\n",
    "            raise ValueError(f\"Unsupported currency: {to_currency}\")\n",
    "\n",
    "        # Convert amount to base currency (USD), then to target currency\n",
    "        amount_in_usd = amount / self.exchange_rates[from_currency]\n",
    "        converted_amount = amount_in_usd * self.exchange_rates[to_currency]\n",
    "        return round(converted_amount, 2)\n",
    "\n",
    "    def calculate_transaction_fee(self, converted_amount, fee_percentage):\n",
    "        \"\"\"Calculates the transaction fee.\"\"\"\n",
    "        fee = converted_amount * (fee_percentage / 100)\n",
    "        return round(fee, 2)\n",
    "\n",
    "    def total_amount_with_fee(self, converted_amount, fee):\n",
    "        \"\"\"Calculates the total amount including the transaction fee.\"\"\"\n",
    "        return round(converted_amount + fee, 2)\n",
    "\n",
    "    def display_supported_currencies(self):\n",
    "        \"\"\"Displays all supported currencies.\"\"\"\n",
    "        return list(self.exchange_rates.keys())\n",
    "\n",
    "\n",
    "# Main Program\n",
    "if __name__ == \"__main__\":\n",
    "    converter = CurrencyConverterWithFee()\n",
    "    print(\"Supported currencies:\", \", \".join(converter.display_supported_currencies()))\n",
    "\n",
    "    try:\n",
    "        # User input\n",
    "        amount = float(input(\"Enter the amount to convert: \"))\n",
    "        from_currency = input(\"From currency (e.g., USD): \").upper()\n",
    "        to_currency = input(\"To currency (e.g., EUR): \").upper()\n",
    "        fee_percentage = float(input(\"Enter the transaction fee percentage: \"))\n",
    "\n",
    "        # Perform conversion\n",
    "        converted_amount = converter.convert(amount, from_currency, to_currency)\n",
    "        fee = converter.calculate_transaction_fee(converted_amount, fee_percentage)\n",
    "        total_amount = converter.total_amount_with_fee(converted_amount, fee)\n",
    "\n",
    "        # Display results\n",
    "        print(f\"\\nConverted Amount: {converted_amount} {to_currency}\")\n",
    "        print(f\"Transaction Fee ({fee_percentage}%): {fee} {to_currency}\")\n",
    "        print(f\"Total Amount (including fee): {total_amount} {to_currency}\")\n",
    "    except ValueError as e:\n",
    "        print(f\"Error: {e}\")\n",
    "    except Exception as e:\n",
    "        print(f\"An unexpected error occurred: {e}\")\n",
    "\n"
   ]
  },
  {
   "cell_type": "code",
   "execution_count": null,
   "id": "af5d2ec5-8d76-41cc-9a72-f105dca1524e",
   "metadata": {},
   "outputs": [],
   "source": []
  }
 ],
 "metadata": {
  "kernelspec": {
   "display_name": "Python 3 (ipykernel)",
   "language": "python",
   "name": "python3"
  },
  "language_info": {
   "codemirror_mode": {
    "name": "ipython",
    "version": 3
   },
   "file_extension": ".py",
   "mimetype": "text/x-python",
   "name": "python",
   "nbconvert_exporter": "python",
   "pygments_lexer": "ipython3",
   "version": "3.12.4"
  }
 },
 "nbformat": 4,
 "nbformat_minor": 5
}
